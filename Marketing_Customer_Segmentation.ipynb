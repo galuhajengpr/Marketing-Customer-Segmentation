{
  "nbformat": 4,
  "nbformat_minor": 0,
  "metadata": {
    "colab": {
      "provenance": [],
      "collapsed_sections": [
        "0AlJAFlepLw6",
        "X9-pB9xBrbbb"
      ],
      "authorship_tag": "ABX9TyPZXIrWoUGZSVNP3x13UYHi",
      "include_colab_link": true
    },
    "kernelspec": {
      "name": "python3",
      "display_name": "Python 3"
    },
    "language_info": {
      "name": "python"
    }
  },
  "cells": [
    {
      "cell_type": "markdown",
      "metadata": {
        "id": "view-in-github",
        "colab_type": "text"
      },
      "source": [
        "<a href=\"https://colab.research.google.com/github/galuhajengpr/Marketing-Customer-Segmentation/blob/main/Marketing_Customer_Segmentation.ipynb\" target=\"_parent\"><img src=\"https://colab.research.google.com/assets/colab-badge.svg\" alt=\"Open In Colab\"/></a>"
      ]
    },
    {
      "cell_type": "markdown",
      "source": [
        "# Data Science in Marketing : Customer Segmentation "
      ],
      "metadata": {
        "id": "hoxIASY-nhac"
      }
    },
    {
      "cell_type": "markdown",
      "source": [
        "Case Study:\n",
        "\n",
        "A company is trying to get to know its customers better. The goal is for your company to create a more appropriate and efficient marketing strategy for each customer.  One of the techniques that can be done to get to know their customers better is to do customer segmentation. \n",
        "\n",
        "That is by grouping existing customers based on the similarity of the characters of these customers. To do this, we will use unsupervised machine learning techniques. One of the techniques that can be used is the application of machine learning using the K-Prototypes algorithm.  The K-Prototypes algorithm is a combination of K-Means and K-Modes that can be used to segment data.\n",
        "\n",
        "*Source by DQLab*"
      ],
      "metadata": {
        "id": "C2ADBNSfnUyN"
      }
    },
    {
      "cell_type": "markdown",
      "source": [
        "## Overview"
      ],
      "metadata": {
        "id": "0AlJAFlepLw6"
      }
    },
    {
      "cell_type": "markdown",
      "source": [
        "**Import Libraries**"
      ],
      "metadata": {
        "id": "qNUP0rAJpojz"
      }
    },
    {
      "cell_type": "code",
      "execution_count": 1,
      "metadata": {
        "colab": {
          "base_uri": "https://localhost:8080/"
        },
        "id": "jm4FmnV7nQcv",
        "outputId": "59801365-84fb-4be6-8b8c-0690b3e05f2f"
      },
      "outputs": [
        {
          "output_type": "stream",
          "name": "stdout",
          "text": [
            "Looking in indexes: https://pypi.org/simple, https://us-python.pkg.dev/colab-wheels/public/simple/\n",
            "Collecting kmodes\n",
            "  Downloading kmodes-0.12.2-py2.py3-none-any.whl (20 kB)\n",
            "Requirement already satisfied: scikit-learn>=0.22.0 in /usr/local/lib/python3.9/dist-packages (from kmodes) (1.2.2)\n",
            "Requirement already satisfied: numpy>=1.10.4 in /usr/local/lib/python3.9/dist-packages (from kmodes) (1.22.4)\n",
            "Requirement already satisfied: scipy>=0.13.3 in /usr/local/lib/python3.9/dist-packages (from kmodes) (1.10.1)\n",
            "Requirement already satisfied: joblib>=0.11 in /usr/local/lib/python3.9/dist-packages (from kmodes) (1.1.1)\n",
            "Requirement already satisfied: threadpoolctl>=2.0.0 in /usr/local/lib/python3.9/dist-packages (from scikit-learn>=0.22.0->kmodes) (3.1.0)\n",
            "Installing collected packages: kmodes\n",
            "Successfully installed kmodes-0.12.2\n"
          ]
        }
      ],
      "source": [
        "!pip install kmodes\n",
        "\n",
        "import pandas as pd\n",
        "import matplotlib.pyplot as plt\n",
        "import seaborn as sns\n",
        "from sklearn.preprocessing import LabelEncoder\n",
        "\n",
        "from kmodes.kmodes import KModes\n",
        "from kmodes.kprototypes import KPrototypes\n",
        "\n",
        "import pickle\n",
        "from pathlib import Path"
      ]
    },
    {
      "cell_type": "markdown",
      "source": [
        "**Data Info**"
      ],
      "metadata": {
        "id": "eLRdmGWFqQWF"
      }
    },
    {
      "cell_type": "code",
      "source": [
        "df = pd.read_csv(\"https://storage.googleapis.com/dqlab-dataset/customer_segments.txt\", sep=\"\\t\")\n",
        "print(df.head())"
      ],
      "metadata": {
        "colab": {
          "base_uri": "https://localhost:8080/"
        },
        "id": "WfedDgCCqSQ-",
        "outputId": "fe35af3f-f23c-44e1-b06f-876674fb9fbe"
      },
      "execution_count": 2,
      "outputs": [
        {
          "output_type": "stream",
          "name": "stdout",
          "text": [
            "  Customer_ID       Nama Pelanggan Jenis Kelamin  Umur       Profesi  \\\n",
            "0    CUST-001         Budi Anggara          Pria    58    Wiraswasta   \n",
            "1    CUST-002     Shirley Ratuwati        Wanita    14       Pelajar   \n",
            "2    CUST-003         Agus Cahyono          Pria    48  Professional   \n",
            "3    CUST-004     Antonius Winarta          Pria    53  Professional   \n",
            "4    CUST-005  Ibu Sri Wahyuni, IR        Wanita    41    Wiraswasta   \n",
            "\n",
            "  Tipe Residen  NilaiBelanjaSetahun  \n",
            "0       Sector              9497927  \n",
            "1      Cluster              2722700  \n",
            "2      Cluster              5286429  \n",
            "3      Cluster              5204498  \n",
            "4      Cluster             10615206  \n"
          ]
        }
      ]
    },
    {
      "cell_type": "code",
      "source": [
        "df.info()"
      ],
      "metadata": {
        "colab": {
          "base_uri": "https://localhost:8080/"
        },
        "id": "-EoNIGi_qfWg",
        "outputId": "fab3ec4c-ba5f-4733-9040-c9cc474528b5"
      },
      "execution_count": 3,
      "outputs": [
        {
          "output_type": "stream",
          "name": "stdout",
          "text": [
            "<class 'pandas.core.frame.DataFrame'>\n",
            "RangeIndex: 50 entries, 0 to 49\n",
            "Data columns (total 7 columns):\n",
            " #   Column               Non-Null Count  Dtype \n",
            "---  ------               --------------  ----- \n",
            " 0   Customer_ID          50 non-null     object\n",
            " 1   Nama Pelanggan       50 non-null     object\n",
            " 2   Jenis Kelamin        50 non-null     object\n",
            " 3   Umur                 50 non-null     int64 \n",
            " 4   Profesi              50 non-null     object\n",
            " 5   Tipe Residen         50 non-null     object\n",
            " 6   NilaiBelanjaSetahun  50 non-null     int64 \n",
            "dtypes: int64(2), object(5)\n",
            "memory usage: 2.9+ KB\n"
          ]
        }
      ]
    },
    {
      "cell_type": "markdown",
      "source": [
        "We know that :\n",
        "\n",
        "*   The data to be used consists of 50 rows and 7 columns\n",
        "*    There are no null values in the data\n",
        "*   2 columns have numeric data type and 5 have string data type\n",
        "\n"
      ],
      "metadata": {
        "id": "pHPq98k_qm__"
      }
    },
    {
      "cell_type": "markdown",
      "source": [
        "## Exploratory Data Analysis"
      ],
      "metadata": {
        "id": "X9-pB9xBrbbb"
      }
    },
    {
      "cell_type": "markdown",
      "source": [
        "**Numerical Data Exploration**"
      ],
      "metadata": {
        "id": "vPnHuCCdssJe"
      }
    },
    {
      "cell_type": "code",
      "source": [
        "# Function to create a plot\n",
        "def observe_num(features):  \n",
        "    fig, axs = plt.subplots(2, 2, figsize=(10, 9))\n",
        "    for i, kol in enumerate(features):\n",
        "\t    sns.boxplot(df[kol], ax = axs[i][0])\n",
        "\t    sns.distplot(df[kol], ax = axs[i][1])   \n",
        "\t    axs[i][0].set_title('mean = %.1f\\n median = %.1f\\n std = %.1f'%(df[kol].mean(), df[kol].median(), df[kol].std()))\n",
        "    plt.setp(axs)\n",
        "    plt.tight_layout()\n",
        "    plt.show()  \n",
        "  \n",
        " # Calling the function\n",
        "numeric_col = ['Umur', 'NilaiBelanjaSetahun']\n",
        "observe_num(numeric_col)"
      ],
      "metadata": {
        "colab": {
          "base_uri": "https://localhost:8080/",
          "height": 0
        },
        "id": "S61331CWrQOt",
        "outputId": "fe4ad8df-4c29-4bb8-9d29-5ca62528963e"
      },
      "execution_count": 4,
      "outputs": [
        {
          "output_type": "stream",
          "name": "stderr",
          "text": [
            "<ipython-input-4-e34f697ced0d>:6: UserWarning: \n",
            "\n",
            "`distplot` is a deprecated function and will be removed in seaborn v0.14.0.\n",
            "\n",
            "Please adapt your code to use either `displot` (a figure-level function with\n",
            "similar flexibility) or `histplot` (an axes-level function for histograms).\n",
            "\n",
            "For a guide to updating your code to use the new functions, please see\n",
            "https://gist.github.com/mwaskom/de44147ed2974457ad6372750bbe5751\n",
            "\n",
            "  sns.distplot(df[kol], ax = axs[i][1])\n",
            "<ipython-input-4-e34f697ced0d>:6: UserWarning: \n",
            "\n",
            "`distplot` is a deprecated function and will be removed in seaborn v0.14.0.\n",
            "\n",
            "Please adapt your code to use either `displot` (a figure-level function with\n",
            "similar flexibility) or `histplot` (an axes-level function for histograms).\n",
            "\n",
            "For a guide to updating your code to use the new functions, please see\n",
            "https://gist.github.com/mwaskom/de44147ed2974457ad6372750bbe5751\n",
            "\n",
            "  sns.distplot(df[kol], ax = axs[i][1])\n"
          ]
        },
        {
          "output_type": "stream",
          "name": "stdout",
          "text": [
            "  adjustable: {'box', 'datalim'}\n",
            "  agg_filter: a filter function, which takes a (m, n, 3) float array and a dpi value, and returns a (m, n, 3) array and two offsets from the bottom left corner of the image\n",
            "  alpha: scalar or None\n",
            "  anchor: (float, float) or {'C', 'SW', 'S', 'SE', 'E', 'NE', ...}\n",
            "  animated: bool\n",
            "  aspect: {'auto', 'equal'} or float\n",
            "  autoscale_on: bool\n",
            "  autoscalex_on: unknown\n",
            "  autoscaley_on: unknown\n",
            "  axes_locator: Callable[[Axes, Renderer], Bbox]\n",
            "  axisbelow: bool or 'line'\n",
            "  box_aspect: float or None\n",
            "  clip_box: `.Bbox`\n",
            "  clip_on: bool\n",
            "  clip_path: Patch or (Path, Transform) or None\n",
            "  facecolor or fc: color\n",
            "  figure: `.Figure`\n",
            "  frame_on: bool\n",
            "  gid: str\n",
            "  in_layout: bool\n",
            "  label: object\n",
            "  mouseover: bool\n",
            "  navigate: bool\n",
            "  navigate_mode: unknown\n",
            "  path_effects: `.AbstractPathEffect`\n",
            "  picker: None or bool or float or callable\n",
            "  position: [left, bottom, width, height] or `~matplotlib.transforms.Bbox`\n",
            "  prop_cycle: unknown\n",
            "  rasterization_zorder: float or None\n",
            "  rasterized: bool\n",
            "  sketch_params: (scale: float, length: float, randomness: float)\n",
            "  snap: bool or None\n",
            "  subplotspec: unknown\n",
            "  title: str\n",
            "  transform: `.Transform`\n",
            "  url: str\n",
            "  visible: bool\n",
            "  xbound: unknown\n",
            "  xlabel: str\n",
            "  xlim: (bottom: float, top: float)\n",
            "  xmargin: float greater than -0.5\n",
            "  xscale: unknown\n",
            "  xticklabels: unknown\n",
            "  xticks: unknown\n",
            "  ybound: unknown\n",
            "  ylabel: str\n",
            "  ylim: (bottom: float, top: float)\n",
            "  ymargin: float greater than -0.5\n",
            "  yscale: unknown\n",
            "  yticklabels: unknown\n",
            "  yticks: unknown\n",
            "  zorder: float\n"
          ]
        },
        {
          "output_type": "display_data",
          "data": {
            "text/plain": [
              "<Figure size 720x648 with 4 Axes>"
            ],
            "image/png": "[encoded data removed]"
          },
          "metadata": {
            "needs_background": "light"
          }
        }
      ]
    },
    {
      "cell_type": "markdown",
      "source": [
        "**Categorical Data Exploration**"
      ],
      "metadata": {
        "id": "Vtnw-cMuxZwq"
      }
    },
    {
      "cell_type": "code",
      "source": [
        "# Prepare for categorical column\n",
        "categorical_col = ['Jenis Kelamin','Profesi','Tipe Residen']  \n",
        "\n",
        "# Create a canvas\n",
        "fig, axs = plt.subplots(3,1,figsize=(7,10)) \n",
        "\n",
        "#  Create a plot for each categorical column  \n",
        "for i, kol in enumerate(categorical_col):  \n",
        "    # Create a plot\n",
        "    sns.countplot(x = df[kol], data = df , order = df[kol].value_counts(ascending=False).index,  ax = axs[i])  \n",
        "    axs[i].set_title('\\nCount Plot %s\\n'%(kol), fontsize=15)  \n",
        "      \n",
        "    # Annotate\n",
        "    for p in axs[i].patches:  \n",
        "        axs[i].annotate(format(p.get_height(), '.0f'),  \n",
        "                        (p.get_x() + p.get_width() / 2., p.get_height()),  \n",
        "                        ha = 'center',  \n",
        "                        va = 'center',  \n",
        "                        xytext = (0, 10),  \n",
        "                        textcoords = 'offset points') \n",
        "          \n",
        "    # Setting Plot  \n",
        "    sns.despine(right=True,top = True, left = True)  \n",
        "    axs[i].axes.yaxis.set_visible(False) \n",
        "    plt.setp(axs)\n",
        "    plt.tight_layout()\n",
        "\n",
        "# Showing plots\n",
        "plt.show()"
      ],
      "metadata": {
        "colab": {
          "base_uri": "https://localhost:8080/",
          "height": 0
        },
        "id": "620LTYsIxY4b",
        "outputId": "b7c896d1-3689-403f-c08d-f0a200293713"
      },
      "execution_count": 5,
      "outputs": [
        {
          "output_type": "stream",
          "name": "stdout",
          "text": [
            "  adjustable: {'box', 'datalim'}\n",
            "  agg_filter: a filter function, which takes a (m, n, 3) float array and a dpi value, and returns a (m, n, 3) array and two offsets from the bottom left corner of the image\n",
            "  alpha: scalar or None\n",
            "  anchor: (float, float) or {'C', 'SW', 'S', 'SE', 'E', 'NE', ...}\n",
            "  animated: bool\n",
            "  aspect: {'auto', 'equal'} or float\n",
            "  autoscale_on: bool\n",
            "  autoscalex_on: unknown\n",
            "  autoscaley_on: unknown\n",
            "  axes_locator: Callable[[Axes, Renderer], Bbox]\n",
            "  axisbelow: bool or 'line'\n",
            "  box_aspect: float or None\n",
            "  clip_box: `.Bbox`\n",
            "  clip_on: bool\n",
            "  clip_path: Patch or (Path, Transform) or None\n",
            "  facecolor or fc: color\n",
            "  figure: `.Figure`\n",
            "  frame_on: bool\n",
            "  gid: str\n",
            "  in_layout: bool\n",
            "  label: object\n",
            "  mouseover: bool\n",
            "  navigate: bool\n",
            "  navigate_mode: unknown\n",
            "  path_effects: `.AbstractPathEffect`\n",
            "  picker: None or bool or float or callable\n",
            "  position: [left, bottom, width, height] or `~matplotlib.transforms.Bbox`\n",
            "  prop_cycle: unknown\n",
            "  rasterization_zorder: float or None\n",
            "  rasterized: bool\n",
            "  sketch_params: (scale: float, length: float, randomness: float)\n",
            "  snap: bool or None\n",
            "  subplotspec: unknown\n",
            "  title: str\n",
            "  transform: `.Transform`\n",
            "  url: str\n",
            "  visible: bool\n",
            "  xbound: unknown\n",
            "  xlabel: str\n",
            "  xlim: (bottom: float, top: float)\n",
            "  xmargin: float greater than -0.5\n",
            "  xscale: unknown\n",
            "  xticklabels: unknown\n",
            "  xticks: unknown\n",
            "  ybound: unknown\n",
            "  ylabel: str\n",
            "  ylim: (bottom: float, top: float)\n",
            "  ymargin: float greater than -0.5\n",
            "  yscale: unknown\n",
            "  yticklabels: unknown\n",
            "  yticks: unknown\n",
            "  zorder: float\n",
            "  adjustable: {'box', 'datalim'}\n",
            "  agg_filter: a filter function, which takes a (m, n, 3) float array and a dpi value, and returns a (m, n, 3) array and two offsets from the bottom left corner of the image\n",
            "  alpha: scalar or None\n",
            "  anchor: (float, float) or {'C', 'SW', 'S', 'SE', 'E', 'NE', ...}\n",
            "  animated: bool\n",
            "  aspect: {'auto', 'equal'} or float\n",
            "  autoscale_on: bool\n",
            "  autoscalex_on: unknown\n",
            "  autoscaley_on: unknown\n",
            "  axes_locator: Callable[[Axes, Renderer], Bbox]\n",
            "  axisbelow: bool or 'line'\n",
            "  box_aspect: float or None\n",
            "  clip_box: `.Bbox`\n",
            "  clip_on: bool\n",
            "  clip_path: Patch or (Path, Transform) or None\n",
            "  facecolor or fc: color\n",
            "  figure: `.Figure`\n",
            "  frame_on: bool\n",
            "  gid: str\n",
            "  in_layout: bool\n",
            "  label: object\n",
            "  mouseover: bool\n",
            "  navigate: bool\n",
            "  navigate_mode: unknown\n",
            "  path_effects: `.AbstractPathEffect`\n",
            "  picker: None or bool or float or callable\n",
            "  position: [left, bottom, width, height] or `~matplotlib.transforms.Bbox`\n",
            "  prop_cycle: unknown\n",
            "  rasterization_zorder: float or None\n",
            "  rasterized: bool\n",
            "  sketch_params: (scale: float, length: float, randomness: float)\n",
            "  snap: bool or None\n",
            "  subplotspec: unknown\n",
            "  title: str\n",
            "  transform: `.Transform`\n",
            "  url: str\n",
            "  visible: bool\n",
            "  xbound: unknown\n",
            "  xlabel: str\n",
            "  xlim: (bottom: float, top: float)\n",
            "  xmargin: float greater than -0.5\n",
            "  xscale: unknown\n",
            "  xticklabels: unknown\n",
            "  xticks: unknown\n",
            "  ybound: unknown\n",
            "  ylabel: str\n",
            "  ylim: (bottom: float, top: float)\n",
            "  ymargin: float greater than -0.5\n",
            "  yscale: unknown\n",
            "  yticklabels: unknown\n",
            "  yticks: unknown\n",
            "  zorder: float\n",
            "  adjustable: {'box', 'datalim'}\n",
            "  agg_filter: a filter function, which takes a (m, n, 3) float array and a dpi value, and returns a (m, n, 3) array and two offsets from the bottom left corner of the image\n",
            "  alpha: scalar or None\n",
            "  anchor: (float, float) or {'C', 'SW', 'S', 'SE', 'E', 'NE', ...}\n",
            "  animated: bool\n",
            "  aspect: {'auto', 'equal'} or float\n",
            "  autoscale_on: bool\n",
            "  autoscalex_on: unknown\n",
            "  autoscaley_on: unknown\n",
            "  axes_locator: Callable[[Axes, Renderer], Bbox]\n",
            "  axisbelow: bool or 'line'\n",
            "  box_aspect: float or None\n",
            "  clip_box: `.Bbox`\n",
            "  clip_on: bool\n",
            "  clip_path: Patch or (Path, Transform) or None\n",
            "  facecolor or fc: color\n",
            "  figure: `.Figure`\n",
            "  frame_on: bool\n",
            "  gid: str\n",
            "  in_layout: bool\n",
            "  label: object\n",
            "  mouseover: bool\n",
            "  navigate: bool\n",
            "  navigate_mode: unknown\n",
            "  path_effects: `.AbstractPathEffect`\n",
            "  picker: None or bool or float or callable\n",
            "  position: [left, bottom, width, height] or `~matplotlib.transforms.Bbox`\n",
            "  prop_cycle: unknown\n",
            "  rasterization_zorder: float or None\n",
            "  rasterized: bool\n",
            "  sketch_params: (scale: float, length: float, randomness: float)\n",
            "  snap: bool or None\n",
            "  subplotspec: unknown\n",
            "  title: str\n",
            "  transform: `.Transform`\n",
            "  url: str\n",
            "  visible: bool\n",
            "  xbound: unknown\n",
            "  xlabel: str\n",
            "  xlim: (bottom: float, top: float)\n",
            "  xmargin: float greater than -0.5\n",
            "  xscale: unknown\n",
            "  xticklabels: unknown\n",
            "  xticks: unknown\n",
            "  ybound: unknown\n",
            "  ylabel: str\n",
            "  ylim: (bottom: float, top: float)\n",
            "  ymargin: float greater than -0.5\n",
            "  yscale: unknown\n",
            "  yticklabels: unknown\n",
            "  yticks: unknown\n",
            "  zorder: float\n"
          ]
        },
        {
          "output_type": "display_data",
          "data": {
            "text/plain": [
              "<Figure size 504x720 with 3 Axes>"
            ],
            "image/png": "[encoded data removed]"
          },
          "metadata": {
            "needs_background": "light"
          }
        }
      ]
    },
    {
      "cell_type": "markdown",
      "source": [
        "Insights :\n",
        "\n",
        "\n",
        "*   The average age of customers is 37.5 years.\n",
        "*   The average annual spending value of customers is 7,069,874.82\n",
        "*   The gender of customers is dominated by women as many as 41 people (82%) and men as many as 9 people (18%).\n",
        "*   The most common profession is self-employed (40%) followed by professional (36%) and others (24%).\n",
        "*   Of all customers 64% of them live in Cluster and 36% live in Sector.\n",
        "\n"
      ],
      "metadata": {
        "id": "AVls0YmU6skG"
      }
    },
    {
      "cell_type": "markdown",
      "source": [
        "## Data Preparation"
      ],
      "metadata": {
        "id": "zwJC6F7G77In"
      }
    },
    {
      "cell_type": "markdown",
      "source": [
        "**Numerical Column Standardization**"
      ],
      "metadata": {
        "id": "p1hZQWaK8IXZ"
      }
    },
    {
      "cell_type": "code",
      "source": [
        "from sklearn.preprocessing import StandardScaler \n",
        "numeric_col = ['Umur', 'NilaiBelanjaSetahun']\n",
        "\n",
        "# Statistics before standardization\n",
        "print('Statics Before Standardization')\n",
        "print(df[numeric_col].describe().round(1))\n",
        "\n",
        "# Standardization\n",
        "df_std = StandardScaler().fit_transform(df[numeric_col])\n",
        "\n",
        "# Create Data Frame\n",
        "df_std = pd.DataFrame(data = df_std, index = df.index, columns=df[numeric_col].columns)\n",
        "\n",
        "# Standardization Result\n",
        "print ('\\nStandardization Result')\n",
        "print(df_std.head())\n",
        "\n",
        "print('\\nStatistics After Standardization')\n",
        "print(df_std.describe().round(0))"
      ],
      "metadata": {
        "id": "vrEFZayI8S7J",
        "colab": {
          "base_uri": "https://localhost:8080/"
        },
        "outputId": "8ec96204-5732-427c-b586-9222cc7f4f77"
      },
      "execution_count": 8,
      "outputs": [
        {
          "output_type": "stream",
          "name": "stdout",
          "text": [
            "Statics Before Standardization\n",
            "       Umur  NilaiBelanjaSetahun\n",
            "count  50.0                 50.0\n",
            "mean   37.5            7069874.8\n",
            "std    14.7            2590619.0\n",
            "min    14.0            2722700.0\n",
            "25%    25.0            5257529.8\n",
            "50%    35.0            5980077.0\n",
            "75%    49.8            9739615.0\n",
            "max    64.0           10884508.0\n",
            "\n",
            "Standardization Result\n",
            "       Umur  NilaiBelanjaSetahun\n",
            "0  1.411245             0.946763\n",
            "1 -1.617768            -1.695081\n",
            "2  0.722833            -0.695414\n",
            "3  1.067039            -0.727361\n",
            "4  0.240944             1.382421\n",
            "\n",
            "Statistics After Standardization\n",
            "       Umur  NilaiBelanjaSetahun\n",
            "count  50.0                 50.0\n",
            "mean   -0.0                 -0.0\n",
            "std     1.0                  1.0\n",
            "min    -2.0                 -2.0\n",
            "25%    -1.0                 -1.0\n",
            "50%    -0.0                 -0.0\n",
            "75%     1.0                  1.0\n",
            "max     2.0                  1.0\n"
          ]
        }
      ]
    },
    {
      "cell_type": "markdown",
      "source": [
        "**Categorical Data Conversion with Label Encoder**"
      ],
      "metadata": {
        "id": "3yboV8ETa8hm"
      }
    },
    {
      "cell_type": "code",
      "source": [
        "from sklearn.preprocessing import LabelEncoder\n",
        "\n",
        "categorical_col = ['Jenis Kelamin', 'Profesi', 'Tipe Residen']\n",
        "df_encode = df[categorical_col].copy()\n",
        "\n",
        "# Label Encoder for categorical columns\n",
        "for col in categorical_col :\n",
        "  df_encode[col] = LabelEncoder().fit_transform(df_encode[col])\n",
        "\n",
        "print(df_encode.head())"
      ],
      "metadata": {
        "colab": {
          "base_uri": "https://localhost:8080/"
        },
        "id": "HQdTBvWua-yn",
        "outputId": "87aed855-8d98-4449-a9d7-1688dd760958"
      },
      "execution_count": 9,
      "outputs": [
        {
          "output_type": "stream",
          "name": "stdout",
          "text": [
            "   Jenis Kelamin  Profesi  Tipe Residen\n",
            "0              0        4             1\n",
            "1              1        2             0\n",
            "2              0        3             0\n",
            "3              0        3             0\n",
            "4              1        4             0\n"
          ]
        }
      ]
    },
    {
      "cell_type": "markdown",
      "source": [
        "**Merging Data for Modeling**"
      ],
      "metadata": {
        "id": "V4TtESeTdPUH"
      }
    },
    {
      "cell_type": "code",
      "source": [
        "# Merging Data Frame\n",
        "df_model = df_encode.merge(df_std, left_index = True, right_index = True, how ='left')\n",
        "print(df_model.head())"
      ],
      "metadata": {
        "colab": {
          "base_uri": "https://localhost:8080/"
        },
        "id": "DCggWg5FdQuQ",
        "outputId": "2caf7281-5a0d-4c7c-e362-d7ce202979be"
      },
      "execution_count": 10,
      "outputs": [
        {
          "output_type": "stream",
          "name": "stdout",
          "text": [
            "   Jenis Kelamin  Profesi  Tipe Residen      Umur  NilaiBelanjaSetahun\n",
            "0              0        4             1  1.411245             0.946763\n",
            "1              1        2             0 -1.617768            -1.695081\n",
            "2              0        3             0  0.722833            -0.695414\n",
            "3              0        3             0  1.067039            -0.727361\n",
            "4              1        4             0  0.240944             1.382421\n"
          ]
        }
      ]
    },
    {
      "cell_type": "markdown",
      "source": [
        "## Modeling"
      ],
      "metadata": {
        "id": "IXMgIq33lvgu"
      }
    },
    {
      "cell_type": "markdown",
      "source": [
        "**Finding the Optimal Number of Clusters**\n",
        "\n",
        "Need to run the kprototypes algorithm with various numbers of clusters. Furthermore, you also save the cost value and visualize it with a line plot or point plot."
      ],
      "metadata": {
        "id": "6ckAla2_lzwC"
      }
    },
    {
      "cell_type": "code",
      "source": [
        "# Iterate to get cost value\n",
        "cost = {}\n",
        "for k in range (2, 10) :\n",
        "  kproto = KPrototypes(n_clusters= k, random_state=75)\n",
        "  kproto.fit_predict(df_model, categorical = [0,1,2])\n",
        "  cost[k]=kproto.cost_\n",
        "\n",
        "# Visualize Elbow Plot\n",
        "sns.pointplot(x=list(cost.keys()), y=list(cost.values()))\n",
        "plt.show()"
      ],
      "metadata": {
        "colab": {
          "base_uri": "https://localhost:8080/",
          "height": 265
        },
        "id": "PM3XIYbXmdco",
        "outputId": "b57c3833-449b-404b-8469-8a8e4dedd9ad"
      },
      "execution_count": 11,
      "outputs": [
        {
          "output_type": "display_data",
          "data": {
            "text/plain": [
              "<Figure size 432x288 with 1 Axes>"
            ],
            "image/png": "[encoded data removed]"
          },
          "metadata": {
            "needs_background": "light"
          }
        }
      ]
    },
    {
      "cell_type": "markdown",
      "source": [
        "We can tell the elbow point of the plot is when k = 5. So we can use 5 as the optimal number of clusters."
      ],
      "metadata": {
        "id": "1HDR6-U2rNGk"
      }
    },
    {
      "cell_type": "markdown",
      "source": [
        "**Modeling**"
      ],
      "metadata": {
        "id": "1lo_-kp6s4Lo"
      }
    },
    {
      "cell_type": "code",
      "source": [
        "  kproto = KPrototypes ( n_clusters = 5, random_state = 75)  \n",
        "  kproto = kproto.fit(df_model, categorical=[0,1,2])  \n",
        "  \n",
        "#Save Model  \n",
        "pickle.dump(kproto, open('cluster.pkl', 'wb'))  \n",
        "\n",
        "# Define each customer segment    \n",
        "clusters =  kproto.predict(df_model, categorical=[0,1,2])    \n",
        "print('segmen pelanggan: {}\\n'.format(clusters))    \n",
        "    \n",
        "# Merging baseline data and customer segments    \n",
        "df_final = df.copy()    \n",
        "df_final['cluster'] = clusters\n",
        "print(df_final.head())   \n"
      ],
      "metadata": {
        "colab": {
          "base_uri": "https://localhost:8080/"
        },
        "id": "AFXSDOT9rcuD",
        "outputId": "df63a3e5-95c0-453b-af45-be397358cff4"
      },
      "execution_count": 12,
      "outputs": [
        {
          "output_type": "stream",
          "name": "stdout",
          "text": [
            "segmen pelanggan: [1 0 2 2 3 4 1 2 4 4 2 2 1 1 3 4 4 2 3 0 3 2 4 3 3 2 3 4 2 2 0 1 0 3 4 3 4\n",
            " 1 4 0 4 3 4 3 4 3 2 1 4 1]\n",
            "\n",
            "  Customer_ID       Nama Pelanggan Jenis Kelamin  Umur       Profesi  \\\n",
            "0    CUST-001         Budi Anggara          Pria    58    Wiraswasta   \n",
            "1    CUST-002     Shirley Ratuwati        Wanita    14       Pelajar   \n",
            "2    CUST-003         Agus Cahyono          Pria    48  Professional   \n",
            "3    CUST-004     Antonius Winarta          Pria    53  Professional   \n",
            "4    CUST-005  Ibu Sri Wahyuni, IR        Wanita    41    Wiraswasta   \n",
            "\n",
            "  Tipe Residen  NilaiBelanjaSetahun  cluster  \n",
            "0       Sector              9497927        1  \n",
            "1      Cluster              2722700        0  \n",
            "2      Cluster              5286429        2  \n",
            "3      Cluster              5204498        2  \n",
            "4      Cluster             10615206        3  \n"
          ]
        }
      ]
    },
    {
      "cell_type": "code",
      "source": [
        "# Display customer data based on the cluster\n",
        "for i in range(0, 5):  \n",
        "    print('\\nPelanggan cluster: {}\\n'.format(i))  \n",
        "    print(df_final[df_final['cluster']== i])\n"
      ],
      "metadata": {
        "colab": {
          "base_uri": "https://localhost:8080/"
        },
        "id": "bVA4iAJVumnV",
        "outputId": "c29ddbad-7dfe-4880-ab71-359aad121306"
      },
      "execution_count": 13,
      "outputs": [
        {
          "output_type": "stream",
          "name": "stdout",
          "text": [
            "\n",
            "Pelanggan cluster: 0\n",
            "\n",
            "   Customer_ID    Nama Pelanggan Jenis Kelamin  Umur    Profesi Tipe Residen  \\\n",
            "1     CUST-002  Shirley Ratuwati        Wanita    14    Pelajar      Cluster   \n",
            "19    CUST-020    Irene Novianto        Wanita    16    Pelajar       Sector   \n",
            "30    CUST-031     Eviana Handry        Wanita    19  Mahasiswa      Cluster   \n",
            "32    CUST-033   Cecilia Kusnadi        Wanita    19  Mahasiswa      Cluster   \n",
            "39    CUST-040    Irene Darmawan        Wanita    14    Pelajar       Sector   \n",
            "\n",
            "    NilaiBelanjaSetahun  cluster  \n",
            "1               2722700        0  \n",
            "19              2896845        0  \n",
            "30              3042773        0  \n",
            "32              3047926        0  \n",
            "39              2861855        0  \n",
            "\n",
            "Pelanggan cluster: 1\n",
            "\n",
            "   Customer_ID    Nama Pelanggan Jenis Kelamin  Umur     Profesi Tipe Residen  \\\n",
            "0     CUST-001      Budi Anggara          Pria    58  Wiraswasta       Sector   \n",
            "6     CUST-007     Cahyono, Agus          Pria    64  Wiraswasta       Sector   \n",
            "12    CUST-013      Cahaya Putri        Wanita    64  Wiraswasta      Cluster   \n",
            "13    CUST-014    Mario Setiawan          Pria    60  Wiraswasta      Cluster   \n",
            "31    CUST-032   Chintya Winarni        Wanita    47  Wiraswasta       Sector   \n",
            "37    CUST-038      Agatha Salim        Wanita    46  Wiraswasta       Sector   \n",
            "47    CUST-048  Maria Hutagalung        Wanita    45  Wiraswasta       Sector   \n",
            "49    CUST-050    Lianna Nugraha        Wanita    55  Wiraswasta       Sector   \n",
            "\n",
            "    NilaiBelanjaSetahun  cluster  \n",
            "0               9497927        1  \n",
            "6               9837260        1  \n",
            "12              9333168        1  \n",
            "13              9471615        1  \n",
            "31             10663179        1  \n",
            "37             10477127        1  \n",
            "47             10390732        1  \n",
            "49             10569316        1  \n",
            "\n",
            "Pelanggan cluster: 2\n",
            "\n",
            "   Customer_ID     Nama Pelanggan Jenis Kelamin  Umur           Profesi  \\\n",
            "2     CUST-003       Agus Cahyono          Pria    48      Professional   \n",
            "3     CUST-004   Antonius Winarta          Pria    53      Professional   \n",
            "7     CUST-008     Danang Santosa          Pria    52      Professional   \n",
            "10    CUST-011     Maria Suryawan        Wanita    50      Professional   \n",
            "11    CUST-012    Erliana Widjaja        Wanita    49      Professional   \n",
            "17    CUST-018        Nelly Halim        Wanita    63  Ibu Rumah Tangga   \n",
            "21    CUST-022       Novita Purba        Wanita    52      Professional   \n",
            "25    CUST-026  Christine Winarto        Wanita    55      Professional   \n",
            "28    CUST-029       Tia Hartanti        Wanita    56      Professional   \n",
            "29    CUST-030     Rosita Saragih        Wanita    46  Ibu Rumah Tangga   \n",
            "46    CUST-047        Mira Kurnia        Wanita    55  Ibu Rumah Tangga   \n",
            "\n",
            "   Tipe Residen  NilaiBelanjaSetahun  cluster  \n",
            "2       Cluster              5286429        2  \n",
            "3       Cluster              5204498        2  \n",
            "7       Cluster              5223569        2  \n",
            "10       Sector              5987367        2  \n",
            "11       Sector              5941914        2  \n",
            "17      Cluster              5340690        2  \n",
            "21      Cluster              5298157        2  \n",
            "25      Cluster              5269392        2  \n",
            "28      Cluster              5271845        2  \n",
            "29       Sector              5020976        2  \n",
            "46      Cluster              6130724        2  \n",
            "\n",
            "Pelanggan cluster: 3\n",
            "\n",
            "   Customer_ID       Nama Pelanggan Jenis Kelamin  Umur     Profesi  \\\n",
            "4     CUST-005  Ibu Sri Wahyuni, IR        Wanita    41  Wiraswasta   \n",
            "14    CUST-015     Shirley Ratuwati        Wanita    20  Wiraswasta   \n",
            "18    CUST-019         Mega Pranoto        Wanita    32  Wiraswasta   \n",
            "20    CUST-021     Lestari Fabianto        Wanita    38  Wiraswasta   \n",
            "23    CUST-024        Putri Ginting        Wanita    39  Wiraswasta   \n",
            "24    CUST-025       Julia Setiawan        Wanita    29  Wiraswasta   \n",
            "26    CUST-027        Grace Mulyati        Wanita    35  Wiraswasta   \n",
            "33    CUST-034       Deasy Arisandi        Wanita    21  Wiraswasta   \n",
            "35    CUST-036       Ni Made Suasti        Wanita    30  Wiraswasta   \n",
            "41    CUST-042         Yuliana Wati        Wanita    26  Wiraswasta   \n",
            "43    CUST-044                 Anna        Wanita    18  Wiraswasta   \n",
            "45    CUST-046         Elfira Surya        Wanita    25  Wiraswasta   \n",
            "\n",
            "   Tipe Residen  NilaiBelanjaSetahun  cluster  \n",
            "4       Cluster             10615206        3  \n",
            "14      Cluster             10365668        3  \n",
            "18      Cluster             10884508        3  \n",
            "20      Cluster              9222070        3  \n",
            "23      Cluster             10259572        3  \n",
            "24       Sector             10721998        3  \n",
            "26      Cluster              9114159        3  \n",
            "33       Sector              9759822        3  \n",
            "35      Cluster              9678994        3  \n",
            "41      Cluster              9880607        3  \n",
            "43      Cluster              9339737        3  \n",
            "45       Sector             10099807        3  \n",
            "\n",
            "Pelanggan cluster: 4\n",
            "\n",
            "   Customer_ID         Nama Pelanggan Jenis Kelamin  Umur           Profesi  \\\n",
            "5     CUST-006        Rosalina Kurnia        Wanita    24      Professional   \n",
            "8     CUST-009  Elisabeth Suryadinata        Wanita    29      Professional   \n",
            "9     CUST-010         Mario Setiawan          Pria    33      Professional   \n",
            "15    CUST-016           Bambang Rudi          Pria    35      Professional   \n",
            "16    CUST-017              Yuni Sari        Wanita    32  Ibu Rumah Tangga   \n",
            "22    CUST-023        Denny Amiruddin          Pria    34      Professional   \n",
            "27    CUST-028          Adeline Huang        Wanita    40  Ibu Rumah Tangga   \n",
            "34    CUST-035                Ida Ayu        Wanita    39      Professional   \n",
            "36    CUST-037       Felicia Tandiono        Wanita    25      Professional   \n",
            "38    CUST-039           Gina Hidayat        Wanita    20      Professional   \n",
            "40    CUST-041       Shinta Aritonang        Wanita    24  Ibu Rumah Tangga   \n",
            "42    CUST-043           Yenna Sumadi        Wanita    31      Professional   \n",
            "44    CUST-045         Rismawati Juni        Wanita    22      Professional   \n",
            "48    CUST-049        Josephine Wahab        Wanita    33  Ibu Rumah Tangga   \n",
            "\n",
            "   Tipe Residen  NilaiBelanjaSetahun  cluster  \n",
            "5       Cluster              5215541        4  \n",
            "8        Sector              5993218        4  \n",
            "9       Cluster              5257448        4  \n",
            "15      Cluster              5262521        4  \n",
            "16      Cluster              5677762        4  \n",
            "22      Cluster              5239290        4  \n",
            "27      Cluster              6631680        4  \n",
            "34       Sector              5962575        4  \n",
            "36       Sector              5972787        4  \n",
            "38      Cluster              5257775        4  \n",
            "40      Cluster              6820976        4  \n",
            "42      Cluster              5268410        4  \n",
            "44      Cluster              5211041        4  \n",
            "48       Sector              4992585        4  \n"
          ]
        }
      ]
    },
    {
      "cell_type": "markdown",
      "source": [
        "**Visualization of Clustering Results - Box Plot**"
      ],
      "metadata": {
        "id": "LCzFBUbzvNzL"
      }
    },
    {
      "cell_type": "code",
      "source": [
        "# Data Numerical\n",
        "numeric_col = ['Umur','NilaiBelanjaSetahun']  \n",
        "  \n",
        "for i in numeric_col:  \n",
        "    plt.figure(figsize=(6,4))  \n",
        "    ax = sns.boxplot(x = 'cluster',y = i, data = df_final)  \n",
        "    plt. title ('\\nBox Plot {}\\n'.format(i), fontsize=12)  \n",
        "    plt.show() "
      ],
      "metadata": {
        "colab": {
          "base_uri": "https://localhost:8080/",
          "height": 633
        },
        "id": "tArL4yQ3umYZ",
        "outputId": "19e66904-a58f-40ef-dbfd-03ce6fa8061e"
      },
      "execution_count": 14,
      "outputs": [
        {
          "output_type": "display_data",
          "data": {
            "text/plain": [
              "<Figure size 432x288 with 1 Axes>"
            ],
            "image/png": "[encoded data removed]"
          },
          "metadata": {
            "needs_background": "light"
          }
        },
        {
          "output_type": "display_data",
          "data": {
            "text/plain": [
              "<Figure size 432x288 with 1 Axes>"
            ],
            "image/png": "[encoded data removed]"
          },
          "metadata": {
            "needs_background": "light"
          }
        }
      ]
    },
    {
      "cell_type": "markdown",
      "source": [
        "**Visualization of Clustering Results - Count Plot**"
      ],
      "metadata": {
        "id": "AnC9-ZpZw64w"
      }
    },
    {
      "cell_type": "code",
      "source": [
        "# Categorical data\n",
        "categorical_col = ['Jenis Kelamin','Profesi','Tipe Residen']  \n",
        "  \n",
        "for i in categorical_col:  \n",
        "    plt.figure(figsize=(8,6))  \n",
        "    ax = sns.countplot(data = df_final, x = 'cluster', hue = i )  \n",
        "    plt.title('\\nCount Plot {}\\n'.format(i), fontsize=12)  \n",
        "    ax.legend (loc=\"upper left\")  \n",
        "    for p in ax.patches:  \n",
        "        ax.annotate(format(p.get_height(), '.0f'),  \n",
        "                    (p.get_x() + p.get_width() / 2., p.get_height()),  \n",
        "                     ha = 'center',  \n",
        "                     va = 'center',  \n",
        "                     xytext = (0, 10),  \n",
        "                     textcoords = 'offset points')  \n",
        "      \n",
        "    sns.despine(right=True,top = True, left = True)  \n",
        "    ax.axes.yaxis.set_visible(False)  \n",
        "    plt.show()  \n"
      ],
      "metadata": {
        "colab": {
          "base_uri": "https://localhost:8080/",
          "height": 1000
        },
        "id": "X-wSiV2uw8Zl",
        "outputId": "c1d98791-2d0d-454f-9a60-53e103ea8f04"
      },
      "execution_count": 15,
      "outputs": [
        {
          "output_type": "display_data",
          "data": {
            "text/plain": [
              "<Figure size 576x432 with 1 Axes>"
            ],
            "image/png": "[encoded data removed]"
          },
          "metadata": {
            "needs_background": "light"
          }
        },
        {
          "output_type": "display_data",
          "data": {
            "text/plain": [
              "<Figure size 576x432 with 1 Axes>"
            ],
            "image/png": "[encoded data removed]"
          },
          "metadata": {
            "needs_background": "light"
          }
        },
        {
          "output_type": "display_data",
          "data": {
            "text/plain": [
              "<Figure size 576x432 with 1 Axes>"
            ],
            "image/png": "[encoded data removed]"
          },
          "metadata": {
            "needs_background": "light"
          }
        }
      ]
    },
    {
      "cell_type": "markdown",
      "source": [
        "**Naming cluster**"
      ],
      "metadata": {
        "id": "Qnm6ZTicza09"
      }
    },
    {
      "cell_type": "code",
      "source": [
        "# Mapping columns\n",
        "df_final['segmen'] = df_final['cluster'].map({  \n",
        "    0: 'Diamond Young Member',  \n",
        "    1: 'Diamond Senior Member',  \n",
        "    2: 'Silver Member',  \n",
        "    3: 'Gold Young Member',  \n",
        "    4: 'Gold Senior Member'  \n",
        "})  \n",
        "\n",
        "print(df_final.info())\n",
        "print(df_final.head())  \n"
      ],
      "metadata": {
        "colab": {
          "base_uri": "https://localhost:8080/"
        },
        "id": "9UOdpTTwzXwu",
        "outputId": "0e351ab5-1b4c-4bab-b713-3ed66479841a"
      },
      "execution_count": 16,
      "outputs": [
        {
          "output_type": "stream",
          "name": "stdout",
          "text": [
            "<class 'pandas.core.frame.DataFrame'>\n",
            "RangeIndex: 50 entries, 0 to 49\n",
            "Data columns (total 9 columns):\n",
            " #   Column               Non-Null Count  Dtype \n",
            "---  ------               --------------  ----- \n",
            " 0   Customer_ID          50 non-null     object\n",
            " 1   Nama Pelanggan       50 non-null     object\n",
            " 2   Jenis Kelamin        50 non-null     object\n",
            " 3   Umur                 50 non-null     int64 \n",
            " 4   Profesi              50 non-null     object\n",
            " 5   Tipe Residen         50 non-null     object\n",
            " 6   NilaiBelanjaSetahun  50 non-null     int64 \n",
            " 7   cluster              50 non-null     uint16\n",
            " 8   segmen               50 non-null     object\n",
            "dtypes: int64(2), object(6), uint16(1)\n",
            "memory usage: 3.3+ KB\n",
            "None\n",
            "  Customer_ID       Nama Pelanggan Jenis Kelamin  Umur       Profesi  \\\n",
            "0    CUST-001         Budi Anggara          Pria    58    Wiraswasta   \n",
            "1    CUST-002     Shirley Ratuwati        Wanita    14       Pelajar   \n",
            "2    CUST-003         Agus Cahyono          Pria    48  Professional   \n",
            "3    CUST-004     Antonius Winarta          Pria    53  Professional   \n",
            "4    CUST-005  Ibu Sri Wahyuni, IR        Wanita    41    Wiraswasta   \n",
            "\n",
            "  Tipe Residen  NilaiBelanjaSetahun  cluster                 segmen  \n",
            "0       Sector              9497927        1  Diamond Senior Member  \n",
            "1      Cluster              2722700        0   Diamond Young Member  \n",
            "2      Cluster              5286429        2          Silver Member  \n",
            "3      Cluster              5204498        2          Silver Member  \n",
            "4      Cluster             10615206        3      Gold Young Member  \n"
          ]
        }
      ]
    },
    {
      "cell_type": "markdown",
      "source": [
        "Insights :\n",
        "\n",
        "*   Cluster 0  : Diamond Young Entrepreneur, the contents of this cluster are entrepreneurs who have an average transaction value of close to 10 million. In addition, the contents of this cluster have an age of around 18 - 41 years with an average age of 29 years.\n",
        "*   Cluster 1  : Diamond Senior Entrepreneur, the contents of this cluster are entrepreneurs who have an average transaction value of close to 10 million. The contents of this cluster have an age of about 45 - 64 years with an average age of 55 years.\n",
        "*   Cluster 2  :  Silver Students, the contents of this cluster are students and college students with an average age of 16 years and an annual spending value of close to 3 million.\n",
        "*   Cluster 3  : Gold Young Members, the contents of this cluster are young professionals and housewives with an age range of around 20 - 40 years and with an average age of 30 years and a yearly spending value of close to 6 million.\n",
        "*   Cluster 4  : Gold Senior Member, the contents of this cluster are professionals and housewives who are old with an age range of 46 - 63 years old and with an average of 53 years old and their annual spending value is close to 6 million.\n",
        "\n",
        "\n",
        "\n",
        "\n",
        "\n",
        "\n",
        "\n"
      ],
      "metadata": {
        "id": "ycUFhqLOz31h"
      }
    },
    {
      "cell_type": "markdown",
      "source": [
        "## Operating Model"
      ],
      "metadata": {
        "id": "xoEx1qZ8KdYw"
      }
    },
    {
      "cell_type": "markdown",
      "source": [
        "The model that has been created must be able to be used daily to predict new data. For this reason, we must prepare the data again and then make predictions with the parameters and models that have been created."
      ],
      "metadata": {
        "id": "amd4uaFbKzvU"
      }
    },
    {
      "cell_type": "code",
      "source": [
        "# Creating new data\n",
        "data = [{  \n",
        "    'Customer_ID': 'CUST-100' ,  \n",
        "    'Nama Pelanggan': 'Joko' ,  \n",
        "    'Jenis Kelamin': 'Pria',  \n",
        "    'Umur': 45,  \n",
        "    'Profesi': 'Wiraswasta',  \n",
        "    'Tipe Residen': 'Cluster' ,  \n",
        "    'NilaiBelanjaSetahun': 8230000  \n",
        "      }]  \n",
        "\n",
        "new_df = pd.DataFrame(data)  \n",
        "print(new_df)"
      ],
      "metadata": {
        "colab": {
          "base_uri": "https://localhost:8080/"
        },
        "id": "ro9Q5A300kZl",
        "outputId": "030a9fa9-af24-4871-f5d4-8e2488f87d94"
      },
      "execution_count": 17,
      "outputs": [
        {
          "output_type": "stream",
          "name": "stdout",
          "text": [
            "  Customer_ID Nama Pelanggan Jenis Kelamin  Umur     Profesi Tipe Residen  \\\n",
            "0    CUST-100           Joko          Pria    45  Wiraswasta      Cluster   \n",
            "\n",
            "   NilaiBelanjaSetahun  \n",
            "0              8230000  \n"
          ]
        }
      ]
    },
    {
      "cell_type": "code",
      "source": [
        "# Create Processing Data Function\n",
        "\n",
        "clusters =  kproto.predict(df_model, categorical=[0,1,2]) \n",
        "df_final = df.copy()    \n",
        "df_final['cluster'] = clusters \n",
        "df_final['segmen'] = df_final['cluster'].map({  \n",
        "    0: 'Diamond Young Member',  \n",
        "    1: 'Diamond Senior Member',  \n",
        "    2: 'Silver Member',  \n",
        "    3: 'Gold Young Member',  \n",
        "    4: 'Gold Senior Member'  \n",
        "})  \n",
        "\n",
        "data = [{  \n",
        "    'Customer_ID': 'CUST-100' ,  \n",
        "    'Nama Pelanggan': 'Joko' ,  \n",
        "    'Jenis Kelamin': 'Pria',  \n",
        "    'Umur': 45,  \n",
        "    'Profesi': 'Wiraswasta',  \n",
        "    'Tipe Residen': 'Cluster' ,  \n",
        "    'NilaiBelanjaSetahun': 8230000  \n",
        "      \n",
        "}]\n",
        "new_df = pd.DataFrame(data) \n",
        "\n",
        "def data_preprocess(data):  \n",
        "    # Convert Categorical data\n",
        "    categorical_col = ['Jenis Kelamin', 'Profesi', 'Tipe Residen']  \n",
        "      \n",
        "    df_encode = data[categorical_col].copy()  \n",
        "  \n",
        "    ## Jenis Kelamin   \n",
        "    df_encode['Jenis Kelamin'] = df_encode['Jenis Kelamin'].map({  \n",
        "        'Pria': 0,  \n",
        "        'Wanita' : 1  \n",
        "    })  \n",
        "      \n",
        "    ## Profesi  \n",
        "    df_encode['Profesi'] = df_encode['Profesi'].map({  \n",
        "        'Ibu Rumah Tangga': 0,  \n",
        "        'Mahasiswa' : 1,  \n",
        "        'Pelajar': 2,  \n",
        "        'Professional': 3,  \n",
        "        'Wiraswasta': 4  \n",
        "    })  \n",
        "      \n",
        "    ## Tipe Residen  \n",
        "    df_encode['Tipe Residen'] = df_encode['Tipe Residen'].map({  \n",
        "        'Cluster': 0,  \n",
        "        'Sector' : 1  \n",
        "    })  \n",
        "      \n",
        "    # Standardization of Numerical Data  \n",
        "    kolom_numerik = ['Umur','NilaiBelanjaSetahun']  \n",
        "    df_std = data[kolom_numerik].copy()  \n",
        "      \n",
        "    ## Standardisasi Kolom Umur  \n",
        "    df_std['Umur'] = (df_std['Umur'] - 37.5)/14.7  \n",
        "      \n",
        "    ## Standardisasi Kolom Nilai Belanja Setahun  \n",
        "    df_std['NilaiBelanjaSetahun'] = (df_std['NilaiBelanjaSetahun'] - 7069874.8)/2590619.0  \n",
        "      \n",
        "    # Merging Categorical and numerical data\n",
        "    df_model = df_encode.merge(df_std, left_index = True,  \n",
        "                           right_index=True, how = 'left')  \n",
        "      \n",
        "    return df_model  \n",
        "  \n",
        "# Execute function\n",
        "new_df_model = data_preprocess(new_df)  \n",
        "  \n",
        "print(new_df_model) \n"
      ],
      "metadata": {
        "colab": {
          "base_uri": "https://localhost:8080/"
        },
        "id": "-CDi2jb6NkBm",
        "outputId": "2bcb008f-db0a-48bb-ddc3-6e6bf5d8eb10"
      },
      "execution_count": 19,
      "outputs": [
        {
          "output_type": "stream",
          "name": "stdout",
          "text": [
            "   Jenis Kelamin  Profesi  Tipe Residen      Umur  NilaiBelanjaSetahun\n",
            "0              0        4             0  0.510204             0.447818\n"
          ]
        }
      ]
    },
    {
      "cell_type": "markdown",
      "source": [
        "**Calling the Model and Making Predictions**"
      ],
      "metadata": {
        "id": "UqMukKAFPIip"
      }
    },
    {
      "cell_type": "code",
      "source": [
        "def modelling (data):  \n",
        " # Call Model \n",
        "    kpoto = pickle.load(open('cluster.pkl', 'rb'))  \n",
        "      \n",
        "    # Making Prediction\n",
        "    clusters = kpoto.predict(data,categorical=[0,1,2])  \n",
        "    return clusters  \n",
        "  \n",
        "# Run Function\n",
        "clusters = modelling(new_df_model)  \n",
        "  \n",
        "print(clusters)  \n"
      ],
      "metadata": {
        "colab": {
          "base_uri": "https://localhost:8080/"
        },
        "id": "7Vx0fFQyPD0l",
        "outputId": "2279e7f2-ebc3-4e02-8661-6efbcfb9ded5"
      },
      "execution_count": 22,
      "outputs": [
        {
          "output_type": "stream",
          "name": "stdout",
          "text": [
            "[1]\n"
          ]
        }
      ]
    },
    {
      "cell_type": "markdown",
      "source": [
        "**Naming Segments**"
      ],
      "metadata": {
        "id": "1X-gehQgPwiN"
      }
    },
    {
      "cell_type": "code",
      "source": [
        "def menamakan_segmen (data_asli, clusters):  \n",
        "      \n",
        "    # Menggabungkan cluster dan data asli  \n",
        "    final_df = data_asli.copy()  \n",
        "    final_df['cluster'] = clusters\n",
        "      \n",
        "    # Menamakan segmen  \n",
        "    final_df['segmen'] = final_df['cluster'].map({  \n",
        "        0: 'Diamond Young Member',  \n",
        "        1: 'Diamond Senior Member', \n",
        "        2: 'Silver Students',  \n",
        "        3: 'Gold Young Member',  \n",
        "        4: 'Gold Senior Member'  \n",
        "    })  \n",
        "      \n",
        "    return final_df\n",
        "  \n",
        "# Menjalankan Fungsi  \n",
        "new_final_df = menamakan_segmen (new_df,clusters)  \n",
        "  \n",
        "print(new_final_df) "
      ],
      "metadata": {
        "colab": {
          "base_uri": "https://localhost:8080/"
        },
        "id": "cC1T7_bIPx-z",
        "outputId": "b0e25912-c995-4f62-8802-58476e401259"
      },
      "execution_count": 23,
      "outputs": [
        {
          "output_type": "stream",
          "name": "stdout",
          "text": [
            "  Customer_ID Nama Pelanggan Jenis Kelamin  Umur     Profesi Tipe Residen  \\\n",
            "0    CUST-100           Joko          Pria    45  Wiraswasta      Cluster   \n",
            "\n",
            "   NilaiBelanjaSetahun  cluster                 segmen  \n",
            "0              8230000        1  Diamond Senior Member  \n"
          ]
        }
      ]
    }
  ]
}